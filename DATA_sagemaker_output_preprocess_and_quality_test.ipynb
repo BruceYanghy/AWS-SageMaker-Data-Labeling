{
 "cells": [
  {
   "cell_type": "code",
   "execution_count": 26,
   "metadata": {},
   "outputs": [],
   "source": [
    "import pandas as pd\n",
    "import re\n",
    "import json"
   ]
  },
  {
   "cell_type": "markdown",
   "metadata": {},
   "source": [
    "## Load Json format data and Get only needed columns "
   ]
  },
  {
   "cell_type": "code",
   "execution_count": 38,
   "metadata": {},
   "outputs": [],
   "source": [
    "file_name = \"output.json\""
   ]
  },
  {
   "cell_type": "code",
   "execution_count": 39,
   "metadata": {},
   "outputs": [],
   "source": [
    "json_read = []\n",
    "\n",
    "with open (file_name) as f:\n",
    "    for line in f:\n",
    "        data = json.loads(line)\n",
    "        # get the task_name\n",
    "        keylist = list()\n",
    "        for i in data.keys():\n",
    "            keylist.append(i)\n",
    "        task_name = keylist[2]\n",
    "\n",
    "        json_read.append([data['source'],\n",
    "                         data[task_name]['class-name'],\n",
    "                         data[task_name]['confidence'],\n",
    "                         data[task_name]['human-annotated']\n",
    "                         ])"
   ]
  },
  {
   "cell_type": "markdown",
   "metadata": {},
   "source": [
    "## Create a DataFrame and Rename the Column"
   ]
  },
  {
   "cell_type": "code",
   "execution_count": 40,
   "metadata": {},
   "outputs": [],
   "source": [
    "col_names =  ['source','is_insincere','confidence','human_annotated']\n",
    "df= pd.DataFrame(json_read,columns=col_names)"
   ]
  },
  {
   "cell_type": "code",
   "execution_count": 41,
   "metadata": {},
   "outputs": [
    {
     "data": {
      "text/plain": [
       "(200, 4)"
      ]
     },
     "execution_count": 41,
     "metadata": {},
     "output_type": "execute_result"
    }
   ],
   "source": [
    "df.shape"
   ]
  },
  {
   "cell_type": "code",
   "execution_count": 42,
   "metadata": {},
   "outputs": [
    {
     "data": {
      "text/html": [
       "<div>\n",
       "<style scoped>\n",
       "    .dataframe tbody tr th:only-of-type {\n",
       "        vertical-align: middle;\n",
       "    }\n",
       "\n",
       "    .dataframe tbody tr th {\n",
       "        vertical-align: top;\n",
       "    }\n",
       "\n",
       "    .dataframe thead th {\n",
       "        text-align: right;\n",
       "    }\n",
       "</style>\n",
       "<table border=\"1\" class=\"dataframe\">\n",
       "  <thead>\n",
       "    <tr style=\"text-align: right;\">\n",
       "      <th></th>\n",
       "      <th>source</th>\n",
       "      <th>is_insincere</th>\n",
       "      <th>confidence</th>\n",
       "      <th>human_annotated</th>\n",
       "    </tr>\n",
       "  </thead>\n",
       "  <tbody>\n",
       "    <tr>\n",
       "      <th>0</th>\n",
       "      <td>\"is this question insincere?  [question: As a ...</td>\n",
       "      <td>sincere</td>\n",
       "      <td>0.93</td>\n",
       "      <td>yes</td>\n",
       "    </tr>\n",
       "    <tr>\n",
       "      <th>1</th>\n",
       "      <td>\"is this question insincere?  [question: If yo...</td>\n",
       "      <td>insincere</td>\n",
       "      <td>0.78</td>\n",
       "      <td>yes</td>\n",
       "    </tr>\n",
       "    <tr>\n",
       "      <th>2</th>\n",
       "      <td>is this question insincere?  [question: Are co...</td>\n",
       "      <td>insincere</td>\n",
       "      <td>0.95</td>\n",
       "      <td>yes</td>\n",
       "    </tr>\n",
       "    <tr>\n",
       "      <th>3</th>\n",
       "      <td>is this question insincere?  [question: Do you...</td>\n",
       "      <td>sincere</td>\n",
       "      <td>0.95</td>\n",
       "      <td>yes</td>\n",
       "    </tr>\n",
       "    <tr>\n",
       "      <th>4</th>\n",
       "      <td>is this question insincere?  [question: Why he...</td>\n",
       "      <td>insincere</td>\n",
       "      <td>0.95</td>\n",
       "      <td>yes</td>\n",
       "    </tr>\n",
       "  </tbody>\n",
       "</table>\n",
       "</div>"
      ],
      "text/plain": [
       "                                              source is_insincere  confidence  \\\n",
       "0  \"is this question insincere?  [question: As a ...      sincere        0.93   \n",
       "1  \"is this question insincere?  [question: If yo...    insincere        0.78   \n",
       "2  is this question insincere?  [question: Are co...    insincere        0.95   \n",
       "3  is this question insincere?  [question: Do you...      sincere        0.95   \n",
       "4  is this question insincere?  [question: Why he...    insincere        0.95   \n",
       "\n",
       "  human_annotated  \n",
       "0             yes  \n",
       "1             yes  \n",
       "2             yes  \n",
       "3             yes  \n",
       "4             yes  "
      ]
     },
     "execution_count": 42,
     "metadata": {},
     "output_type": "execute_result"
    }
   ],
   "source": [
    "df.head()"
   ]
  },
  {
   "cell_type": "markdown",
   "metadata": {},
   "source": [
    "## Parse the ID out to match the original data"
   ]
  },
  {
   "cell_type": "code",
   "execution_count": 48,
   "metadata": {},
   "outputs": [],
   "source": [
    "id = []\n",
    "pattern = r'.*\\[id: (.*) \\].*'\n",
    "\n",
    "for i in range(df.shape[0]):\n",
    "    extraction_id=re.findall(pattern,df['source'][i])\n",
    "    if extraction_id:\n",
    "        id.append(extraction_id[0])\n",
    "    else:\n",
    "        id.append('')\n"
   ]
  },
  {
   "cell_type": "code",
   "execution_count": 49,
   "metadata": {},
   "outputs": [
    {
     "data": {
      "text/plain": [
       "200"
      ]
     },
     "execution_count": 49,
     "metadata": {},
     "output_type": "execute_result"
    }
   ],
   "source": [
    "len(id)"
   ]
  },
  {
   "cell_type": "code",
   "execution_count": 50,
   "metadata": {},
   "outputs": [],
   "source": [
    "df['id'] = id"
   ]
  },
  {
   "cell_type": "code",
   "execution_count": 51,
   "metadata": {},
   "outputs": [],
   "source": [
    "df_label = df.copy()"
   ]
  },
  {
   "cell_type": "code",
   "execution_count": 52,
   "metadata": {},
   "outputs": [
    {
     "data": {
      "text/html": [
       "<div>\n",
       "<style scoped>\n",
       "    .dataframe tbody tr th:only-of-type {\n",
       "        vertical-align: middle;\n",
       "    }\n",
       "\n",
       "    .dataframe tbody tr th {\n",
       "        vertical-align: top;\n",
       "    }\n",
       "\n",
       "    .dataframe thead th {\n",
       "        text-align: right;\n",
       "    }\n",
       "</style>\n",
       "<table border=\"1\" class=\"dataframe\">\n",
       "  <thead>\n",
       "    <tr style=\"text-align: right;\">\n",
       "      <th></th>\n",
       "      <th>source</th>\n",
       "      <th>is_insincere</th>\n",
       "      <th>confidence</th>\n",
       "      <th>human_annotated</th>\n",
       "      <th>id</th>\n",
       "    </tr>\n",
       "  </thead>\n",
       "  <tbody>\n",
       "    <tr>\n",
       "      <th>0</th>\n",
       "      <td>\"is this question insincere?  [question: As a ...</td>\n",
       "      <td>sincere</td>\n",
       "      <td>0.93</td>\n",
       "      <td>yes</td>\n",
       "      <td>4fdccb3dfb686f3c3ecd</td>\n",
       "    </tr>\n",
       "    <tr>\n",
       "      <th>1</th>\n",
       "      <td>\"is this question insincere?  [question: If yo...</td>\n",
       "      <td>insincere</td>\n",
       "      <td>0.78</td>\n",
       "      <td>yes</td>\n",
       "      <td>175b23a9b8015fb287c0</td>\n",
       "    </tr>\n",
       "    <tr>\n",
       "      <th>2</th>\n",
       "      <td>is this question insincere?  [question: Are co...</td>\n",
       "      <td>insincere</td>\n",
       "      <td>0.95</td>\n",
       "      <td>yes</td>\n",
       "      <td>2efa3ddc4b94bb610008</td>\n",
       "    </tr>\n",
       "    <tr>\n",
       "      <th>3</th>\n",
       "      <td>is this question insincere?  [question: Do you...</td>\n",
       "      <td>sincere</td>\n",
       "      <td>0.95</td>\n",
       "      <td>yes</td>\n",
       "      <td>2039fe8508d2e5faa5a5</td>\n",
       "    </tr>\n",
       "    <tr>\n",
       "      <th>4</th>\n",
       "      <td>is this question insincere?  [question: Why he...</td>\n",
       "      <td>insincere</td>\n",
       "      <td>0.95</td>\n",
       "      <td>yes</td>\n",
       "      <td>4f8f18e80d3b3c7e4227</td>\n",
       "    </tr>\n",
       "  </tbody>\n",
       "</table>\n",
       "</div>"
      ],
      "text/plain": [
       "                                              source is_insincere  confidence  \\\n",
       "0  \"is this question insincere?  [question: As a ...      sincere        0.93   \n",
       "1  \"is this question insincere?  [question: If yo...    insincere        0.78   \n",
       "2  is this question insincere?  [question: Are co...    insincere        0.95   \n",
       "3  is this question insincere?  [question: Do you...      sincere        0.95   \n",
       "4  is this question insincere?  [question: Why he...    insincere        0.95   \n",
       "\n",
       "  human_annotated                    id  \n",
       "0             yes  4fdccb3dfb686f3c3ecd  \n",
       "1             yes  175b23a9b8015fb287c0  \n",
       "2             yes  2efa3ddc4b94bb610008  \n",
       "3             yes  2039fe8508d2e5faa5a5  \n",
       "4             yes  4f8f18e80d3b3c7e4227  "
      ]
     },
     "execution_count": 52,
     "metadata": {},
     "output_type": "execute_result"
    }
   ],
   "source": [
    "df_label.head()"
   ]
  },
  {
   "cell_type": "markdown",
   "metadata": {},
   "source": [
    "## Load the original dataset that has label"
   ]
  },
  {
   "cell_type": "code",
   "execution_count": 53,
   "metadata": {},
   "outputs": [],
   "source": [
    "df_unlabel = pd.read_csv('train_quora.csv')"
   ]
  },
  {
   "cell_type": "code",
   "execution_count": 54,
   "metadata": {},
   "outputs": [
    {
     "data": {
      "text/html": [
       "<div>\n",
       "<style scoped>\n",
       "    .dataframe tbody tr th:only-of-type {\n",
       "        vertical-align: middle;\n",
       "    }\n",
       "\n",
       "    .dataframe tbody tr th {\n",
       "        vertical-align: top;\n",
       "    }\n",
       "\n",
       "    .dataframe thead th {\n",
       "        text-align: right;\n",
       "    }\n",
       "</style>\n",
       "<table border=\"1\" class=\"dataframe\">\n",
       "  <thead>\n",
       "    <tr style=\"text-align: right;\">\n",
       "      <th></th>\n",
       "      <th>qid</th>\n",
       "      <th>question_text</th>\n",
       "      <th>target</th>\n",
       "    </tr>\n",
       "  </thead>\n",
       "  <tbody>\n",
       "    <tr>\n",
       "      <th>0</th>\n",
       "      <td>00002165364db923c7e6</td>\n",
       "      <td>How did Quebec nationalists see their province...</td>\n",
       "      <td>0.0</td>\n",
       "    </tr>\n",
       "    <tr>\n",
       "      <th>1</th>\n",
       "      <td>000032939017120e6e44</td>\n",
       "      <td>Do you have an adopted dog, how would you enco...</td>\n",
       "      <td>0.0</td>\n",
       "    </tr>\n",
       "    <tr>\n",
       "      <th>2</th>\n",
       "      <td>0000412ca6e4628ce2cf</td>\n",
       "      <td>Why does velocity affect time? Does velocity a...</td>\n",
       "      <td>0.0</td>\n",
       "    </tr>\n",
       "    <tr>\n",
       "      <th>3</th>\n",
       "      <td>000042bf85aa498cd78e</td>\n",
       "      <td>How did Otto von Guericke used the Magdeburg h...</td>\n",
       "      <td>0.0</td>\n",
       "    </tr>\n",
       "    <tr>\n",
       "      <th>4</th>\n",
       "      <td>0000455dfa3e01eae3af</td>\n",
       "      <td>Can I convert montra helicon D to a mountain b...</td>\n",
       "      <td>0.0</td>\n",
       "    </tr>\n",
       "  </tbody>\n",
       "</table>\n",
       "</div>"
      ],
      "text/plain": [
       "                    qid                                      question_text  \\\n",
       "0  00002165364db923c7e6  How did Quebec nationalists see their province...   \n",
       "1  000032939017120e6e44  Do you have an adopted dog, how would you enco...   \n",
       "2  0000412ca6e4628ce2cf  Why does velocity affect time? Does velocity a...   \n",
       "3  000042bf85aa498cd78e  How did Otto von Guericke used the Magdeburg h...   \n",
       "4  0000455dfa3e01eae3af  Can I convert montra helicon D to a mountain b...   \n",
       "\n",
       "   target  \n",
       "0     0.0  \n",
       "1     0.0  \n",
       "2     0.0  \n",
       "3     0.0  \n",
       "4     0.0  "
      ]
     },
     "execution_count": 54,
     "metadata": {},
     "output_type": "execute_result"
    }
   ],
   "source": [
    "df_unlabel.head()"
   ]
  },
  {
   "cell_type": "code",
   "execution_count": 55,
   "metadata": {},
   "outputs": [
    {
     "data": {
      "text/plain": [
       "(444896, 3)"
      ]
     },
     "execution_count": 55,
     "metadata": {},
     "output_type": "execute_result"
    }
   ],
   "source": [
    "df_unlabel.shape"
   ]
  },
  {
   "cell_type": "code",
   "execution_count": 56,
   "metadata": {},
   "outputs": [],
   "source": [
    "df_unlabel['id'] = df_unlabel.qid.astype(str)"
   ]
  },
  {
   "cell_type": "code",
   "execution_count": 57,
   "metadata": {},
   "outputs": [
    {
     "data": {
      "text/plain": [
       "(444896, 4)"
      ]
     },
     "execution_count": 57,
     "metadata": {},
     "output_type": "execute_result"
    }
   ],
   "source": [
    "df_unlabel.shape"
   ]
  },
  {
   "cell_type": "code",
   "execution_count": 58,
   "metadata": {},
   "outputs": [
    {
     "data": {
      "text/html": [
       "<div>\n",
       "<style scoped>\n",
       "    .dataframe tbody tr th:only-of-type {\n",
       "        vertical-align: middle;\n",
       "    }\n",
       "\n",
       "    .dataframe tbody tr th {\n",
       "        vertical-align: top;\n",
       "    }\n",
       "\n",
       "    .dataframe thead th {\n",
       "        text-align: right;\n",
       "    }\n",
       "</style>\n",
       "<table border=\"1\" class=\"dataframe\">\n",
       "  <thead>\n",
       "    <tr style=\"text-align: right;\">\n",
       "      <th></th>\n",
       "      <th>qid</th>\n",
       "      <th>question_text</th>\n",
       "      <th>target</th>\n",
       "      <th>id</th>\n",
       "    </tr>\n",
       "  </thead>\n",
       "  <tbody>\n",
       "    <tr>\n",
       "      <th>0</th>\n",
       "      <td>00002165364db923c7e6</td>\n",
       "      <td>How did Quebec nationalists see their province...</td>\n",
       "      <td>0.0</td>\n",
       "      <td>00002165364db923c7e6</td>\n",
       "    </tr>\n",
       "    <tr>\n",
       "      <th>1</th>\n",
       "      <td>000032939017120e6e44</td>\n",
       "      <td>Do you have an adopted dog, how would you enco...</td>\n",
       "      <td>0.0</td>\n",
       "      <td>000032939017120e6e44</td>\n",
       "    </tr>\n",
       "    <tr>\n",
       "      <th>2</th>\n",
       "      <td>0000412ca6e4628ce2cf</td>\n",
       "      <td>Why does velocity affect time? Does velocity a...</td>\n",
       "      <td>0.0</td>\n",
       "      <td>0000412ca6e4628ce2cf</td>\n",
       "    </tr>\n",
       "    <tr>\n",
       "      <th>3</th>\n",
       "      <td>000042bf85aa498cd78e</td>\n",
       "      <td>How did Otto von Guericke used the Magdeburg h...</td>\n",
       "      <td>0.0</td>\n",
       "      <td>000042bf85aa498cd78e</td>\n",
       "    </tr>\n",
       "    <tr>\n",
       "      <th>4</th>\n",
       "      <td>0000455dfa3e01eae3af</td>\n",
       "      <td>Can I convert montra helicon D to a mountain b...</td>\n",
       "      <td>0.0</td>\n",
       "      <td>0000455dfa3e01eae3af</td>\n",
       "    </tr>\n",
       "  </tbody>\n",
       "</table>\n",
       "</div>"
      ],
      "text/plain": [
       "                    qid                                      question_text  \\\n",
       "0  00002165364db923c7e6  How did Quebec nationalists see their province...   \n",
       "1  000032939017120e6e44  Do you have an adopted dog, how would you enco...   \n",
       "2  0000412ca6e4628ce2cf  Why does velocity affect time? Does velocity a...   \n",
       "3  000042bf85aa498cd78e  How did Otto von Guericke used the Magdeburg h...   \n",
       "4  0000455dfa3e01eae3af  Can I convert montra helicon D to a mountain b...   \n",
       "\n",
       "   target                    id  \n",
       "0     0.0  00002165364db923c7e6  \n",
       "1     0.0  000032939017120e6e44  \n",
       "2     0.0  0000412ca6e4628ce2cf  \n",
       "3     0.0  000042bf85aa498cd78e  \n",
       "4     0.0  0000455dfa3e01eae3af  "
      ]
     },
     "execution_count": 58,
     "metadata": {},
     "output_type": "execute_result"
    }
   ],
   "source": [
    "df_unlabel.head()"
   ]
  },
  {
   "cell_type": "markdown",
   "metadata": {},
   "source": [
    "## Left Outer join df_label and df_unlabel "
   ]
  },
  {
   "cell_type": "code",
   "execution_count": 59,
   "metadata": {},
   "outputs": [],
   "source": [
    "df_merge = df_label.merge(df_unlabel, how='left', on=['id'])\n"
   ]
  },
  {
   "cell_type": "code",
   "execution_count": 60,
   "metadata": {},
   "outputs": [
    {
     "data": {
      "text/html": [
       "<div>\n",
       "<style scoped>\n",
       "    .dataframe tbody tr th:only-of-type {\n",
       "        vertical-align: middle;\n",
       "    }\n",
       "\n",
       "    .dataframe tbody tr th {\n",
       "        vertical-align: top;\n",
       "    }\n",
       "\n",
       "    .dataframe thead th {\n",
       "        text-align: right;\n",
       "    }\n",
       "</style>\n",
       "<table border=\"1\" class=\"dataframe\">\n",
       "  <thead>\n",
       "    <tr style=\"text-align: right;\">\n",
       "      <th></th>\n",
       "      <th>source</th>\n",
       "      <th>is_insincere</th>\n",
       "      <th>confidence</th>\n",
       "      <th>human_annotated</th>\n",
       "      <th>id</th>\n",
       "      <th>qid</th>\n",
       "      <th>question_text</th>\n",
       "      <th>target</th>\n",
       "    </tr>\n",
       "  </thead>\n",
       "  <tbody>\n",
       "    <tr>\n",
       "      <th>0</th>\n",
       "      <td>\"is this question insincere?  [question: As a ...</td>\n",
       "      <td>sincere</td>\n",
       "      <td>0.93</td>\n",
       "      <td>yes</td>\n",
       "      <td>4fdccb3dfb686f3c3ecd</td>\n",
       "      <td>4fdccb3dfb686f3c3ecd</td>\n",
       "      <td>As a South African Cricket fan, what would be ...</td>\n",
       "      <td>0.0</td>\n",
       "    </tr>\n",
       "    <tr>\n",
       "      <th>1</th>\n",
       "      <td>\"is this question insincere?  [question: If yo...</td>\n",
       "      <td>insincere</td>\n",
       "      <td>0.78</td>\n",
       "      <td>yes</td>\n",
       "      <td>175b23a9b8015fb287c0</td>\n",
       "      <td>175b23a9b8015fb287c0</td>\n",
       "      <td>If you are a \"content writer\", exactly what ar...</td>\n",
       "      <td>0.0</td>\n",
       "    </tr>\n",
       "    <tr>\n",
       "      <th>2</th>\n",
       "      <td>is this question insincere?  [question: Are co...</td>\n",
       "      <td>insincere</td>\n",
       "      <td>0.95</td>\n",
       "      <td>yes</td>\n",
       "      <td>2efa3ddc4b94bb610008</td>\n",
       "      <td>2efa3ddc4b94bb610008</td>\n",
       "      <td>Are conservatives just unintelligent liberals?</td>\n",
       "      <td>1.0</td>\n",
       "    </tr>\n",
       "    <tr>\n",
       "      <th>3</th>\n",
       "      <td>is this question insincere?  [question: Do you...</td>\n",
       "      <td>sincere</td>\n",
       "      <td>0.95</td>\n",
       "      <td>yes</td>\n",
       "      <td>2039fe8508d2e5faa5a5</td>\n",
       "      <td>2039fe8508d2e5faa5a5</td>\n",
       "      <td>Do you still like the Overwatch now?</td>\n",
       "      <td>0.0</td>\n",
       "    </tr>\n",
       "    <tr>\n",
       "      <th>4</th>\n",
       "      <td>is this question insincere?  [question: Why he...</td>\n",
       "      <td>insincere</td>\n",
       "      <td>0.95</td>\n",
       "      <td>yes</td>\n",
       "      <td>4f8f18e80d3b3c7e4227</td>\n",
       "      <td>4f8f18e80d3b3c7e4227</td>\n",
       "      <td>Why he wanted PM to have sex with pig?</td>\n",
       "      <td>1.0</td>\n",
       "    </tr>\n",
       "  </tbody>\n",
       "</table>\n",
       "</div>"
      ],
      "text/plain": [
       "                                              source is_insincere  confidence  \\\n",
       "0  \"is this question insincere?  [question: As a ...      sincere        0.93   \n",
       "1  \"is this question insincere?  [question: If yo...    insincere        0.78   \n",
       "2  is this question insincere?  [question: Are co...    insincere        0.95   \n",
       "3  is this question insincere?  [question: Do you...      sincere        0.95   \n",
       "4  is this question insincere?  [question: Why he...    insincere        0.95   \n",
       "\n",
       "  human_annotated                    id                   qid  \\\n",
       "0             yes  4fdccb3dfb686f3c3ecd  4fdccb3dfb686f3c3ecd   \n",
       "1             yes  175b23a9b8015fb287c0  175b23a9b8015fb287c0   \n",
       "2             yes  2efa3ddc4b94bb610008  2efa3ddc4b94bb610008   \n",
       "3             yes  2039fe8508d2e5faa5a5  2039fe8508d2e5faa5a5   \n",
       "4             yes  4f8f18e80d3b3c7e4227  4f8f18e80d3b3c7e4227   \n",
       "\n",
       "                                       question_text  target  \n",
       "0  As a South African Cricket fan, what would be ...     0.0  \n",
       "1  If you are a \"content writer\", exactly what ar...     0.0  \n",
       "2     Are conservatives just unintelligent liberals?     1.0  \n",
       "3               Do you still like the Overwatch now?     0.0  \n",
       "4             Why he wanted PM to have sex with pig?     1.0  "
      ]
     },
     "execution_count": 60,
     "metadata": {},
     "output_type": "execute_result"
    }
   ],
   "source": [
    "df_merge.head()"
   ]
  },
  {
   "cell_type": "code",
   "execution_count": 61,
   "metadata": {},
   "outputs": [
    {
     "data": {
      "text/plain": [
       "(200, 8)"
      ]
     },
     "execution_count": 61,
     "metadata": {},
     "output_type": "execute_result"
    }
   ],
   "source": [
    "df_merge.shape"
   ]
  },
  {
   "cell_type": "code",
   "execution_count": 73,
   "metadata": {},
   "outputs": [],
   "source": [
    "df_final=df_merge.dropna()\n",
    "df_final = df_final.reset_index()\n",
    "del df_final['index']"
   ]
  },
  {
   "cell_type": "code",
   "execution_count": 74,
   "metadata": {},
   "outputs": [
    {
     "data": {
      "text/html": [
       "<div>\n",
       "<style scoped>\n",
       "    .dataframe tbody tr th:only-of-type {\n",
       "        vertical-align: middle;\n",
       "    }\n",
       "\n",
       "    .dataframe tbody tr th {\n",
       "        vertical-align: top;\n",
       "    }\n",
       "\n",
       "    .dataframe thead th {\n",
       "        text-align: right;\n",
       "    }\n",
       "</style>\n",
       "<table border=\"1\" class=\"dataframe\">\n",
       "  <thead>\n",
       "    <tr style=\"text-align: right;\">\n",
       "      <th></th>\n",
       "      <th>source</th>\n",
       "      <th>is_insincere</th>\n",
       "      <th>confidence</th>\n",
       "      <th>human_annotated</th>\n",
       "      <th>id</th>\n",
       "      <th>qid</th>\n",
       "      <th>question_text</th>\n",
       "      <th>target</th>\n",
       "    </tr>\n",
       "  </thead>\n",
       "  <tbody>\n",
       "    <tr>\n",
       "      <th>0</th>\n",
       "      <td>\"is this question insincere?  [question: As a ...</td>\n",
       "      <td>sincere</td>\n",
       "      <td>0.93</td>\n",
       "      <td>yes</td>\n",
       "      <td>4fdccb3dfb686f3c3ecd</td>\n",
       "      <td>4fdccb3dfb686f3c3ecd</td>\n",
       "      <td>As a South African Cricket fan, what would be ...</td>\n",
       "      <td>0.0</td>\n",
       "    </tr>\n",
       "    <tr>\n",
       "      <th>1</th>\n",
       "      <td>\"is this question insincere?  [question: If yo...</td>\n",
       "      <td>insincere</td>\n",
       "      <td>0.78</td>\n",
       "      <td>yes</td>\n",
       "      <td>175b23a9b8015fb287c0</td>\n",
       "      <td>175b23a9b8015fb287c0</td>\n",
       "      <td>If you are a \"content writer\", exactly what ar...</td>\n",
       "      <td>0.0</td>\n",
       "    </tr>\n",
       "    <tr>\n",
       "      <th>2</th>\n",
       "      <td>is this question insincere?  [question: Are co...</td>\n",
       "      <td>insincere</td>\n",
       "      <td>0.95</td>\n",
       "      <td>yes</td>\n",
       "      <td>2efa3ddc4b94bb610008</td>\n",
       "      <td>2efa3ddc4b94bb610008</td>\n",
       "      <td>Are conservatives just unintelligent liberals?</td>\n",
       "      <td>1.0</td>\n",
       "    </tr>\n",
       "    <tr>\n",
       "      <th>3</th>\n",
       "      <td>is this question insincere?  [question: Do you...</td>\n",
       "      <td>sincere</td>\n",
       "      <td>0.95</td>\n",
       "      <td>yes</td>\n",
       "      <td>2039fe8508d2e5faa5a5</td>\n",
       "      <td>2039fe8508d2e5faa5a5</td>\n",
       "      <td>Do you still like the Overwatch now?</td>\n",
       "      <td>0.0</td>\n",
       "    </tr>\n",
       "    <tr>\n",
       "      <th>4</th>\n",
       "      <td>is this question insincere?  [question: Why he...</td>\n",
       "      <td>insincere</td>\n",
       "      <td>0.95</td>\n",
       "      <td>yes</td>\n",
       "      <td>4f8f18e80d3b3c7e4227</td>\n",
       "      <td>4f8f18e80d3b3c7e4227</td>\n",
       "      <td>Why he wanted PM to have sex with pig?</td>\n",
       "      <td>1.0</td>\n",
       "    </tr>\n",
       "  </tbody>\n",
       "</table>\n",
       "</div>"
      ],
      "text/plain": [
       "                                              source is_insincere  confidence  \\\n",
       "0  \"is this question insincere?  [question: As a ...      sincere        0.93   \n",
       "1  \"is this question insincere?  [question: If yo...    insincere        0.78   \n",
       "2  is this question insincere?  [question: Are co...    insincere        0.95   \n",
       "3  is this question insincere?  [question: Do you...      sincere        0.95   \n",
       "4  is this question insincere?  [question: Why he...    insincere        0.95   \n",
       "\n",
       "  human_annotated                    id                   qid  \\\n",
       "0             yes  4fdccb3dfb686f3c3ecd  4fdccb3dfb686f3c3ecd   \n",
       "1             yes  175b23a9b8015fb287c0  175b23a9b8015fb287c0   \n",
       "2             yes  2efa3ddc4b94bb610008  2efa3ddc4b94bb610008   \n",
       "3             yes  2039fe8508d2e5faa5a5  2039fe8508d2e5faa5a5   \n",
       "4             yes  4f8f18e80d3b3c7e4227  4f8f18e80d3b3c7e4227   \n",
       "\n",
       "                                       question_text  target  \n",
       "0  As a South African Cricket fan, what would be ...     0.0  \n",
       "1  If you are a \"content writer\", exactly what ar...     0.0  \n",
       "2     Are conservatives just unintelligent liberals?     1.0  \n",
       "3               Do you still like the Overwatch now?     0.0  \n",
       "4             Why he wanted PM to have sex with pig?     1.0  "
      ]
     },
     "execution_count": 74,
     "metadata": {},
     "output_type": "execute_result"
    }
   ],
   "source": [
    "df_final.head()"
   ]
  },
  {
   "cell_type": "markdown",
   "metadata": {},
   "source": [
    "## Factorize the label column 'is_insincere' and 'target' to normalize label to 0 and 1"
   ]
  },
  {
   "cell_type": "code",
   "execution_count": 77,
   "metadata": {},
   "outputs": [],
   "source": [
    "df_final['is_insincere']=pd.factorize(df_final['is_insincere'], sort=False)[0]"
   ]
  },
  {
   "cell_type": "code",
   "execution_count": 78,
   "metadata": {},
   "outputs": [],
   "source": [
    "df_final['target']=pd.factorize(df_final.target, sort=True)[0]"
   ]
  },
  {
   "cell_type": "code",
   "execution_count": 79,
   "metadata": {},
   "outputs": [
    {
     "data": {
      "text/html": [
       "<div>\n",
       "<style scoped>\n",
       "    .dataframe tbody tr th:only-of-type {\n",
       "        vertical-align: middle;\n",
       "    }\n",
       "\n",
       "    .dataframe tbody tr th {\n",
       "        vertical-align: top;\n",
       "    }\n",
       "\n",
       "    .dataframe thead th {\n",
       "        text-align: right;\n",
       "    }\n",
       "</style>\n",
       "<table border=\"1\" class=\"dataframe\">\n",
       "  <thead>\n",
       "    <tr style=\"text-align: right;\">\n",
       "      <th></th>\n",
       "      <th>source</th>\n",
       "      <th>is_insincere</th>\n",
       "      <th>confidence</th>\n",
       "      <th>human_annotated</th>\n",
       "      <th>id</th>\n",
       "      <th>qid</th>\n",
       "      <th>question_text</th>\n",
       "      <th>target</th>\n",
       "    </tr>\n",
       "  </thead>\n",
       "  <tbody>\n",
       "    <tr>\n",
       "      <th>0</th>\n",
       "      <td>\"is this question insincere?  [question: As a ...</td>\n",
       "      <td>0</td>\n",
       "      <td>0.93</td>\n",
       "      <td>yes</td>\n",
       "      <td>4fdccb3dfb686f3c3ecd</td>\n",
       "      <td>4fdccb3dfb686f3c3ecd</td>\n",
       "      <td>As a South African Cricket fan, what would be ...</td>\n",
       "      <td>0</td>\n",
       "    </tr>\n",
       "    <tr>\n",
       "      <th>1</th>\n",
       "      <td>\"is this question insincere?  [question: If yo...</td>\n",
       "      <td>1</td>\n",
       "      <td>0.78</td>\n",
       "      <td>yes</td>\n",
       "      <td>175b23a9b8015fb287c0</td>\n",
       "      <td>175b23a9b8015fb287c0</td>\n",
       "      <td>If you are a \"content writer\", exactly what ar...</td>\n",
       "      <td>0</td>\n",
       "    </tr>\n",
       "    <tr>\n",
       "      <th>2</th>\n",
       "      <td>is this question insincere?  [question: Are co...</td>\n",
       "      <td>1</td>\n",
       "      <td>0.95</td>\n",
       "      <td>yes</td>\n",
       "      <td>2efa3ddc4b94bb610008</td>\n",
       "      <td>2efa3ddc4b94bb610008</td>\n",
       "      <td>Are conservatives just unintelligent liberals?</td>\n",
       "      <td>1</td>\n",
       "    </tr>\n",
       "    <tr>\n",
       "      <th>3</th>\n",
       "      <td>is this question insincere?  [question: Do you...</td>\n",
       "      <td>0</td>\n",
       "      <td>0.95</td>\n",
       "      <td>yes</td>\n",
       "      <td>2039fe8508d2e5faa5a5</td>\n",
       "      <td>2039fe8508d2e5faa5a5</td>\n",
       "      <td>Do you still like the Overwatch now?</td>\n",
       "      <td>0</td>\n",
       "    </tr>\n",
       "    <tr>\n",
       "      <th>4</th>\n",
       "      <td>is this question insincere?  [question: Why he...</td>\n",
       "      <td>1</td>\n",
       "      <td>0.95</td>\n",
       "      <td>yes</td>\n",
       "      <td>4f8f18e80d3b3c7e4227</td>\n",
       "      <td>4f8f18e80d3b3c7e4227</td>\n",
       "      <td>Why he wanted PM to have sex with pig?</td>\n",
       "      <td>1</td>\n",
       "    </tr>\n",
       "  </tbody>\n",
       "</table>\n",
       "</div>"
      ],
      "text/plain": [
       "                                              source  is_insincere  \\\n",
       "0  \"is this question insincere?  [question: As a ...             0   \n",
       "1  \"is this question insincere?  [question: If yo...             1   \n",
       "2  is this question insincere?  [question: Are co...             1   \n",
       "3  is this question insincere?  [question: Do you...             0   \n",
       "4  is this question insincere?  [question: Why he...             1   \n",
       "\n",
       "   confidence human_annotated                    id                   qid  \\\n",
       "0        0.93             yes  4fdccb3dfb686f3c3ecd  4fdccb3dfb686f3c3ecd   \n",
       "1        0.78             yes  175b23a9b8015fb287c0  175b23a9b8015fb287c0   \n",
       "2        0.95             yes  2efa3ddc4b94bb610008  2efa3ddc4b94bb610008   \n",
       "3        0.95             yes  2039fe8508d2e5faa5a5  2039fe8508d2e5faa5a5   \n",
       "4        0.95             yes  4f8f18e80d3b3c7e4227  4f8f18e80d3b3c7e4227   \n",
       "\n",
       "                                       question_text  target  \n",
       "0  As a South African Cricket fan, what would be ...       0  \n",
       "1  If you are a \"content writer\", exactly what ar...       0  \n",
       "2     Are conservatives just unintelligent liberals?       1  \n",
       "3               Do you still like the Overwatch now?       0  \n",
       "4             Why he wanted PM to have sex with pig?       1  "
      ]
     },
     "execution_count": 79,
     "metadata": {},
     "output_type": "execute_result"
    }
   ],
   "source": [
    "df_final.head()"
   ]
  },
  {
   "cell_type": "markdown",
   "metadata": {},
   "source": [
    "## Load sklearn metrics to Evaluate Data Quality"
   ]
  },
  {
   "cell_type": "code",
   "execution_count": 80,
   "metadata": {},
   "outputs": [],
   "source": [
    "from sklearn.metrics import confusion_matrix\n",
    "\n",
    "actual = df_final.target\n",
    "predicted = df_final.is_insincere\n",
    "tn, fp, fn, tp = confusion_matrix(actual, predicted).ravel()"
   ]
  },
  {
   "cell_type": "code",
   "execution_count": 81,
   "metadata": {},
   "outputs": [
    {
     "data": {
      "text/plain": [
       "array([[140,  10],\n",
       "       [ 13,  37]])"
      ]
     },
     "execution_count": 81,
     "metadata": {},
     "output_type": "execute_result"
    }
   ],
   "source": [
    "confusion_matrix(actual, predicted)"
   ]
  },
  {
   "cell_type": "code",
   "execution_count": 82,
   "metadata": {},
   "outputs": [
    {
     "name": "stdout",
     "output_type": "stream",
     "text": [
      "True Positive:  37\n",
      "False Positive:  10\n",
      "True Negative:  140\n",
      "False Negative:  13\n"
     ]
    }
   ],
   "source": [
    "print('True Positive: ',tp)\n",
    "print('False Positive: ',fp)\n",
    "print('True Negative: ',tn)\n",
    "print('False Negative: ',fn)\n"
   ]
  },
  {
   "cell_type": "code",
   "execution_count": 83,
   "metadata": {},
   "outputs": [],
   "source": [
    "accuracy = (tp + tn) / (tp+fp+tn+fn)\n",
    "precision = tp / (tp+fp)\n",
    "recall = tp/(tp+fn)\n",
    "f1 = 2*(precision*recall)/(precision+recall)\n",
    "false_negative_rate = fn/(fn+tp)\n",
    "false_positive_rate = fp/(fp+tn)"
   ]
  },
  {
   "cell_type": "code",
   "execution_count": 85,
   "metadata": {},
   "outputs": [
    {
     "name": "stdout",
     "output_type": "stream",
     "text": [
      "Accuracy Score : 0.885\n",
      "Precision: 0.7872340425531915\n",
      "Recall: 0.74\n",
      "F1 Score: 0.7628865979381443\n",
      "False Negative Rate: 0.26\n",
      "False Positive Rate: 0.06666666666666667\n"
     ]
    }
   ],
   "source": [
    "print('Accuracy Score :',accuracy )\n",
    "print('Precision:',precision )\n",
    "print('Recall:',recall )\n",
    "print('F1 Score:',f1 )\n",
    "print('False Negative Rate:',false_negative_rate )\n",
    "print('False Positive Rate:',false_positive_rate )"
   ]
  },
  {
   "cell_type": "code",
   "execution_count": null,
   "metadata": {},
   "outputs": [],
   "source": []
  },
  {
   "cell_type": "code",
   "execution_count": null,
   "metadata": {},
   "outputs": [],
   "source": []
  },
  {
   "cell_type": "code",
   "execution_count": null,
   "metadata": {},
   "outputs": [],
   "source": []
  }
 ],
 "metadata": {
  "kernelspec": {
   "display_name": "Python 3",
   "language": "python",
   "name": "python3"
  },
  "language_info": {
   "codemirror_mode": {
    "name": "ipython",
    "version": 3
   },
   "file_extension": ".py",
   "mimetype": "text/x-python",
   "name": "python",
   "nbconvert_exporter": "python",
   "pygments_lexer": "ipython3",
   "version": "3.6.7"
  }
 },
 "nbformat": 4,
 "nbformat_minor": 2
}
